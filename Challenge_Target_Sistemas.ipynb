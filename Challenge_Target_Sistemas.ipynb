{
  "nbformat": 4,
  "nbformat_minor": 0,
  "metadata": {
    "colab": {
      "provenance": [],
      "authorship_tag": "ABX9TyPR/G5F78p/kg6TKQgXQyLU",
      "include_colab_link": true
    },
    "kernelspec": {
      "name": "python3",
      "display_name": "Python 3"
    },
    "language_info": {
      "name": "python"
    }
  },
  "cells": [
    {
      "cell_type": "markdown",
      "metadata": {
        "id": "view-in-github",
        "colab_type": "text"
      },
      "source": [
        "<a href=\"https://colab.research.google.com/github/Lenakirara/Challenge_Target/blob/main/Challenge_Target_Sistemas.ipynb\" target=\"_parent\"><img src=\"https://colab.research.google.com/assets/colab-badge.svg\" alt=\"Open In Colab\"/></a>"
      ]
    },
    {
      "cell_type": "markdown",
      "source": [
        "## 1. Valor da Soma\n",
        "\n",
        "- Resposta: 91"
      ],
      "metadata": {
        "id": "NkAeTJdnkhVc"
      }
    },
    {
      "cell_type": "code",
      "source": [
        "indice = 13\n",
        "soma = 0\n",
        "k = 0\n",
        "\n",
        "while (k < indice):\n",
        "  k += 1\n",
        "  soma += k\n",
        "print(f'Soma: {soma}')"
      ],
      "metadata": {
        "colab": {
          "base_uri": "https://localhost:8080/"
        },
        "id": "gdN2FF-ykh6v",
        "outputId": "21e29e77-c0e5-45f1-8cd9-e54a0a1c9205"
      },
      "execution_count": 22,
      "outputs": [
        {
          "output_type": "stream",
          "name": "stdout",
          "text": [
            "Soma: 91\n"
          ]
        }
      ]
    },
    {
      "cell_type": "markdown",
      "source": [
        "## 2. Dado a sequência de fibonacci, onde se inicia por 0 e 1 e o próximo valor sempre será a soma dos 2 valores anteriores (exemplo: 0, 1 ,1, 2, 3, 5, 8, 13, 21, 43...), escreva um programa na linguagem que desejar onde, informando um numero, ele calcule a sequência de Fibonacci e retorne uma mensagem avisando se o numero informado pertende ou não a sequência."
      ],
      "metadata": {
        "id": "rlAb1hhHmdqC"
      }
    },
    {
      "cell_type": "code",
      "execution_count": 13,
      "metadata": {
        "colab": {
          "base_uri": "https://localhost:8080/"
        },
        "id": "AN-kU4bYkYOt",
        "outputId": "556b4d29-32ac-45b2-f054-dee9d969c15d"
      },
      "outputs": [
        {
          "output_type": "stream",
          "name": "stdout",
          "text": [
            "Informe um número: 8\n",
            "O número 8 pertence a sequência fibonacci\n"
          ]
        }
      ],
      "source": [
        "num = int(input(\"Informe um número: \"))\n",
        "n1, n2 = 0, 1\n",
        "\n",
        "while (n3 < num):\n",
        "  n3 = n1 + n2\n",
        "  n1 = n2\n",
        "  n2 = n3\n",
        "\n",
        "if (num == 0 or num == n3):\n",
        "  print(f'O número {num} pertence a sequência fibonacci')\n",
        "else:\n",
        "  print(f'O número {num} não pertence a sequência fibonacci')\n",
        "\n"
      ]
    },
    {
      "cell_type": "markdown",
      "source": [
        "## 3. Descubra a lógica e encontre o próximo termo\n",
        "\n",
        "- a) 1, 3, 5, 7, **9**\n",
        "- b) 2, 4, 8, 16, 32, 64, **128**\n",
        "- c) 0, 1, 4, 9, 16, 25, 36, **49**\n",
        "- d) 4, 16, 36, 64, **100**\n",
        "- e) 1, 1, 2, 3, 5, 8, **13**\n",
        "- f) 2, 10, 12, 16, 17, 18, 19, **200**\n"
      ],
      "metadata": {
        "id": "Z29VN2qwq_Py"
      }
    },
    {
      "cell_type": "markdown",
      "source": [
        "## 4. Você está em uma sala com 3 interruptores, cada um conectado a uma lâmpada em uma sala diferente. Você não pode ver as lâmpadas da sala em que está, mas pode ligar e desligar os interruptores quantas vezes quiser. Seu objetivo é descobrir qual interruptor controla qual lampada.Como você faria para descobrir, **usando apenas duas idas** até uma das salas das lâmpadas, qual interruptor controla cada lâmpada?\n",
        "\n",
        "\n",
        "- **Resposta**: Como tenho apenas duas idas e as lâmpadas ficam em salas diferentes:\n",
        "Ligo o 1º interruptor e deixo por alguns minutos na intenção de deixar a lâmpada quente. Desligo o 1º interruptor e ligo 2 º interruptor e deixo o mesmo ligado. Assim, vou até uma das sala para verificar se a lâmpada está acesa, quente, ou apagada/fria. Por exemplo: se na primeira sala estiver com a lâmpada acesa ela corresponde ao 2º interruptor. Caso esteja quente corresponde ao 1º interruptor e se estiver apagada/fria corresponde ao 3º interruptor. Com a segunda e última ida vou na outra sala e faço a mesma análise que foi feita na primeira sala com a lâmpada."
      ],
      "metadata": {
        "id": "G3gLTQubzEsl"
      }
    },
    {
      "cell_type": "markdown",
      "source": [
        "## 5. Escreva um programa que inverta os cararcteres de um string <br>\n",
        "Importante:\n",
        "- a) Essa string pode ser informada através de qualquer entrada de sua preferencia ou pode ser previamente definida no código.\n",
        "- b) Evite usar funções prontas, como, reverse (por exemplo)\n"
      ],
      "metadata": {
        "id": "7u4OQ1siHuX_"
      }
    },
    {
      "cell_type": "code",
      "source": [
        "string = input(\"Escreva uma palavra ou frase: \")\n",
        "\n",
        "inverted_string = string[::-1]\n",
        "print(f'{string} - {inverted_string }')"
      ],
      "metadata": {
        "colab": {
          "base_uri": "https://localhost:8080/"
        },
        "id": "AEJqZTUkzENQ",
        "outputId": "10e1dad9-54a7-45bf-d149-ae7db2232d7f"
      },
      "execution_count": 17,
      "outputs": [
        {
          "output_type": "stream",
          "name": "stdout",
          "text": [
            "Escreva uma palavra: TARGET\n",
            "TARGET - TEGRAT\n"
          ]
        }
      ]
    }
  ]
}